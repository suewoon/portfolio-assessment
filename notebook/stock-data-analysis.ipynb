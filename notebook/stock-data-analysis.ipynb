{
 "cells": [
  {
   "cell_type": "markdown",
   "metadata": {},
   "source": [
    "Stock Data Analsysis \n",
    "-------------------- \n",
    "0. using alpha vantage api for getting info \n",
    "    - download data in csv format in 'prices' directory\n",
    "    \n",
    "1. read data from downloaded csv & save it to memory \n",
    "    - using hash table (python dictionary) on first layer because they can be easily combined across clusters. make symbol as a key.\n",
    "    \n",
    "2. computing averages \n",
    "    - avg (closing price of all stocks) over all time period\n",
    "    - avg (volume) for each stock over.. \n",
    "    - avg(close - open price) for each stock over .. \n",
    "    - avg(high - low price) for each stock over.. \n",
    "3. the most traded stock each day , create a data structure that stores dates & stock symbols that were most traded on that day. see what company is hot. 맨날 똑같은 회사가 탑인데 의미가 있나..? \n",
    "    \n",
    "4. which stocks would have been the most profitable to buy on the specific date? considering inflation\n",
    "5. what stocks whould have been best to short at the start of the period? (*공매도를 하는게 좋았다는 말은 계속 떨어졌다는 말) \n",
    "\n",
    "6. does technical indicators really help predicting trades market? (bollinger bands - brands) \n",
    "\n",
    "7. based on price, what was the optimal day to buy each stock, if we wanted to hold them util now?  "
   ]
  },
  {
   "cell_type": "markdown",
   "metadata": {},
   "source": [
    "## 1. read data from csv and load on to the memory "
   ]
  },
  {
   "cell_type": "code",
   "execution_count": 41,
   "metadata": {
    "collapsed": true
   },
   "outputs": [],
   "source": [
    "import concurrent.futures\n",
    "import os \n",
    "import cProfile\n",
    "import time\n",
    "import numpy as np"
   ]
  },
  {
   "cell_type": "markdown",
   "metadata": {},
   "source": [
    "multi thread를 사용하여 파일을 읽는다. 이번 프로젝트는 여러 cluster에서 작업 하는 것을 전제로 두기 때문에 `pandas.DataFrame`이 아니라 python에 기본으로 구현되어 있는 data structure을 사용한다. "
   ]
  },
  {
   "cell_type": "code",
   "execution_count": 6,
   "metadata": {
    "scrolled": true
   },
   "outputs": [
    {
     "name": "stdout",
     "output_type": "stream",
     "text": [
      "         9656 function calls in 0.300 seconds\n",
      "\n",
      "   Ordered by: standard name\n",
      "\n",
      "   ncalls  tottime  percall  cumtime  percall filename:lineno(function)\n",
      "        1    0.280    0.280    0.300    0.300 <string>:1(<module>)\n",
      "      560    0.001    0.000    0.003    0.000 _base.py:312(__init__)\n",
      "        1    0.000    0.000    0.019    0.019 _base.py:550(map)\n",
      "        1    0.004    0.004    0.019    0.019 _base.py:575(<listcomp>)\n",
      "        1    0.000    0.000    0.000    0.000 _base.py:579(result_iterator)\n",
      "        4    0.000    0.000    0.000    0.000 _weakrefset.py:81(add)\n",
      "      560    0.001    0.000    0.005    0.000 queue.py:115(put)\n",
      "      560    0.000    0.000    0.000    0.000 queue.py:206(_put)\n",
      "      560    0.002    0.000    0.015    0.000 thread.py:114(submit)\n",
      "      560    0.000    0.000    0.005    0.000 thread.py:127(_adjust_thread_count)\n",
      "      560    0.000    0.000    0.000    0.000 thread.py:45(__init__)\n",
      "        4    0.000    0.000    0.000    0.000 threading.py:1120(daemon)\n",
      "        4    0.000    0.000    0.000    0.000 threading.py:1136(daemon)\n",
      "        4    0.000    0.000    0.000    0.000 threading.py:1230(current_thread)\n",
      "      564    0.001    0.000    0.002    0.000 threading.py:215(__init__)\n",
      "      564    0.000    0.000    0.000    0.000 threading.py:239(__enter__)\n",
      "      564    0.000    0.000    0.000    0.000 threading.py:242(__exit__)\n",
      "        4    0.000    0.000    0.000    0.000 threading.py:248(_release_save)\n",
      "        4    0.000    0.000    0.000    0.000 threading.py:251(_acquire_restore)\n",
      "      564    0.000    0.000    0.000    0.000 threading.py:254(_is_owned)\n",
      "        4    0.000    0.000    0.004    0.001 threading.py:263(wait)\n",
      "      560    0.002    0.000    0.003    0.000 threading.py:334(notify)\n",
      "        4    0.000    0.000    0.000    0.000 threading.py:498(__init__)\n",
      "        8    0.000    0.000    0.000    0.000 threading.py:506(is_set)\n",
      "        4    0.000    0.000    0.004    0.001 threading.py:533(wait)\n",
      "      560    0.000    0.000    0.000    0.000 threading.py:74(RLock)\n",
      "        4    0.000    0.000    0.000    0.000 threading.py:757(__init__)\n",
      "        4    0.000    0.000    0.004    0.001 threading.py:828(start)\n",
      "        4    0.000    0.000    0.000    0.000 weakref.py:406(__setitem__)\n",
      "        8    0.000    0.000    0.000    0.000 {built-in method _thread.allocate_lock}\n",
      "        4    0.000    0.000    0.000    0.000 {built-in method _thread.get_ident}\n",
      "        4    0.000    0.000    0.000    0.000 {built-in method _thread.start_new_thread}\n",
      "        1    0.000    0.000    0.300    0.300 {built-in method builtins.exec}\n",
      "      560    0.000    0.000    0.000    0.000 {built-in method builtins.len}\n",
      "      564    0.000    0.000    0.000    0.000 {method '__enter__' of '_thread.lock' objects}\n",
      "      564    0.000    0.000    0.000    0.000 {method '__exit__' of '_thread.lock' objects}\n",
      "      576    0.004    0.000    0.004    0.000 {method 'acquire' of '_thread.lock' objects}\n",
      "        8    0.000    0.000    0.000    0.000 {method 'add' of 'set' objects}\n",
      "      564    0.000    0.000    0.000    0.000 {method 'append' of 'collections.deque' objects}\n",
      "        1    0.000    0.000    0.000    0.000 {method 'disable' of '_lsprof.Profiler' objects}\n",
      "        5    0.000    0.000    0.000    0.000 {method 'release' of '_thread.lock' objects}\n",
      "        1    0.000    0.000    0.000    0.000 {method 'remove' of 'collections.deque' objects}\n",
      "\n",
      "\n"
     ]
    }
   ],
   "source": [
    "def readfile(filename):\n",
    "    with open('prices/'+filename) as f:\n",
    "        rows = f.read().strip()\n",
    "    rows = rows.split('\\n')\n",
    "    rows = [line.split(',') for line in rows]\n",
    "    return filename, rows \n",
    "\n",
    "p = concurrent.futures.ThreadPoolExecutor(max_workers=4)\n",
    "filenames = os.listdir('prices')\n",
    "\n",
    "profile_string = \"prices = p.map(readfile, filenames)\"\n",
    "cProfile.run(profile_string)"
   ]
  },
  {
   "cell_type": "code",
   "execution_count": 22,
   "metadata": {
    "scrolled": true
   },
   "outputs": [
    {
     "name": "stdout",
     "output_type": "stream",
     "text": [
      "         1457047 function calls in 3.780 seconds\n",
      "\n",
      "   Ordered by: standard name\n",
      "\n",
      "   ncalls  tottime  percall  cumtime  percall filename:lineno(function)\n",
      "      560    0.035    0.000    3.777    0.007 <ipython-input-6-d321b5944ad2>:2(readfile)\n",
      "      560    0.284    0.001    3.430    0.006 <ipython-input-6-d321b5944ad2>:6(<listcomp>)\n",
      "        1    0.003    0.003    3.780    3.780 <string>:1(<listcomp>)\n",
      "        1    0.000    0.000    3.780    3.780 <string>:1(<module>)\n",
      "      560    0.001    0.000    0.003    0.000 _bootlocale.py:23(getpreferredencoding)\n",
      "      560    0.000    0.000    0.000    0.000 codecs.py:259(__init__)\n",
      "      560    0.001    0.000    0.001    0.000 codecs.py:308(__init__)\n",
      "      560    0.002    0.000    0.010    0.000 codecs.py:318(decode)\n",
      "      560    0.009    0.000    0.009    0.000 {built-in method _codecs.utf_8_decode}\n",
      "      560    0.001    0.000    0.001    0.000 {built-in method _locale.nl_langinfo}\n",
      "        1    0.000    0.000    3.780    3.780 {built-in method builtins.exec}\n",
      "      560    0.032    0.000    0.035    0.000 {built-in method io.open}\n",
      "        1    0.000    0.000    0.000    0.000 {method 'disable' of '_lsprof.Profiler' objects}\n",
      "      560    0.143    0.000    0.153    0.000 {method 'read' of '_io.TextIOWrapper' objects}\n",
      "  1450883    3.264    0.000    3.264    0.000 {method 'split' of 'str' objects}\n",
      "      560    0.005    0.000    0.005    0.000 {method 'strip' of 'str' objects}\n",
      "\n",
      "\n"
     ]
    }
   ],
   "source": [
    "# when reading file without multi threads \n",
    "profile_string = \"prices_2 = [readfile(filename) for filename in filenames]\"\n",
    "cProfile.run(profile_string)"
   ]
  },
  {
   "cell_type": "markdown",
   "metadata": {},
   "source": [
    "multi thread를 이용했을 때, 10배 이상 읽기 속도가 빨라지는 것도 확인했다."
   ]
  },
  {
   "cell_type": "code",
   "execution_count": 8,
   "metadata": {
    "collapsed": true
   },
   "outputs": [],
   "source": [
    "prices = list(prices)\n",
    "prices = dict(prices)"
   ]
  },
  {
   "cell_type": "code",
   "execution_count": 27,
   "metadata": {},
   "outputs": [
    {
     "data": {
      "text/plain": [
       "['2007-01-03', '27.73', '27.459999', '27.98', '27.33', '64226000']"
      ]
     },
     "execution_count": 27,
     "metadata": {},
     "output_type": "execute_result"
    }
   ],
   "source": [
    "prices['csco.csv'][1]"
   ]
  },
  {
   "cell_type": "markdown",
   "metadata": {},
   "source": [
    "## 2. computing averages\n",
    "- avg (closing price of all stocks) over all time period\n",
    "- avg (volume) for each stock over all time period\n",
    "- avg(close - open price) for each stock over all time period\n",
    "- avg(high - low price) for each stock over all time period\n",
    "\n",
    "change `prices` data structure columnwise so that compuatation average on each column is fast"
   ]
  },
  {
   "cell_type": "code",
   "execution_count": 33,
   "metadata": {
    "collapsed": true
   },
   "outputs": [],
   "source": [
    "from dateutil.parser import parse\n",
    "\n",
    "def change_prices_columnwise(prices):\n",
    "    for symbol, rows in prices.items():\n",
    "        # first row - column header\n",
    "        columns = rows[0]\n",
    "        prices_symbol = {}\n",
    "        for idx, column in enumerate(columns):\n",
    "            values = [p[idx] for p in prices[symbol][1:]]\n",
    "            # index 0 column: date \n",
    "            if idx == 0:\n",
    "                values = [parse(v) for v in values]\n",
    "            # index not 0 colum: float \n",
    "            else:\n",
    "                values = [float(v) for v in values]\n",
    "            prices_symbol[column] = values       \n",
    "    return symbol, prices_symbol\n",
    "\n",
    "pool = concurrent.futures.ProcessPoolExecutor(max_workers=4)\n",
    "prices_columnwise = pool.map(change_prices_columnwise, prices)\n",
    "prices_columnwise = dict(list(prices_columnwise))"
   ]
  },
  {
   "cell_type": "code",
   "execution_count": 48,
   "metadata": {
    "collapsed": true
   },
   "outputs": [],
   "source": [
    "from statistics import mean \n",
    "\n",
    "# average closing price \n",
    "avg_closing = {}\n",
    "# average volume\n",
    "avg_volume = {}\n",
    "# average (close-open) \n",
    "avg_diff_clos_open = {}\n",
    "# average (high -low)\n",
    "avg_dff_high_low = {}\n",
    "\n",
    "for k, v in prices_columnwise.items():\n",
    "    avg_closing[k] = mean(v['close'])\n",
    "    avg_volume[k] = mean(v['volume'])\n",
    "    avg_diff_clos_open[k] = mean([i-j for i, j in zip(v['close'], v['open'])])\n",
    "    avg_dff_high_low[k] = mean([i-j for i, j in zip(v['high'],v['low'])])"
   ]
  },
  {
   "cell_type": "code",
   "execution_count": 61,
   "metadata": {},
   "outputs": [
    {
     "data": {
      "image/png": "[encoded data removed]",
      "text/plain": [
       "<matplotlib.figure.Figure at 0x173455518>"
      ]
     },
     "metadata": {},
     "output_type": "display_data"
    },
    {
     "data": {
      "image/png": "[encoded data removed]",
      "text/plain": [
       "<matplotlib.figure.Figure at 0x1736fef98>"
      ]
     },
     "metadata": {},
     "output_type": "display_data"
    },
    {
     "data": {
      "image/png": "[encoded data removed]",
      "text/plain": [
       "<matplotlib.figure.Figure at 0x174d15518>"
      ]
     },
     "metadata": {},
     "output_type": "display_data"
    },
    {
     "data": {
      "image/png": "[encoded data removed]",
      "text/plain": [
       "<matplotlib.figure.Figure at 0x17494acc0>"
      ]
     },
     "metadata": {},
     "output_type": "display_data"
    }
   ],
   "source": [
    "import matplotlib.pyplot as plt \n",
    "plt.bar(range(len(avg_closing.keys())), list(avg_closing.values()))\n",
    "plt.title('average closing price')\n",
    "plt.show()\n",
    "\n",
    "plt.bar(range(len(avg_volume.keys())), list(avg_volume.values()))\n",
    "plt.title('average volume')\n",
    "plt.show()\n",
    "\n",
    "plt.bar(range(len(avg_diff_clos_open.keys())), list(avg_diff_clos_open.values()))\n",
    "plt.title('average (close-open)')\n",
    "plt.show()\n",
    "\n",
    "plt.bar(range(len(avg_dff_high_low.keys())), list(avg_dff_high_low.values()))\n",
    "plt.title('average (high-low)')\n",
    "plt.show()"
   ]
  },
  {
   "cell_type": "markdown",
   "metadata": {},
   "source": [
    "## 3. the most traded stock each day\n",
    "create a data structure that stores dates & stock symbols that were most traded on that day. see what company is hot.\n",
    "맨날 똑같은 회사가 탑인데 의미가 있나..? \n",
    "    "
   ]
  },
  {
   "cell_type": "code",
   "execution_count": 67,
   "metadata": {
    "collapsed": true
   },
   "outputs": [],
   "source": [
    "# {'date': [[symbol, volume], [], ...]}\n",
    "trades = {}\n",
    "\n",
    "for k, v in prices_columnwise.items():\n",
    "    for i, date in enumerate(v['date']):\n",
    "        if date not in trades:\n",
    "            trades[date] = []\n",
    "        trades[date].append([k, v['volume'][i]])\n",
    "        \n",
    "# [[date, symbol], [], ..] \n",
    "most_traded = []\n",
    "for k, v in trades.items():\n",
    "    ordered = sorted(v, key=lambda x: x[1])\n",
    "    most_traded.append([k, ordered[-1][0]])"
   ]
  },
  {
   "cell_type": "code",
   "execution_count": null,
   "metadata": {
    "collapsed": true
   },
   "outputs": [],
   "source": [
    "most_traded[:5]"
   ]
  },
  {
   "cell_type": "code",
   "execution_count": null,
   "metadata": {
    "collapsed": true
   },
   "outputs": [],
   "source": [
    "tra"
   ]
  },
  {
   "cell_type": "markdown",
   "metadata": {},
   "source": [
    "## 4. The most profitable to buy on 2007-01-01? \n",
    "which stocks would have been the most profitable to buy on the specific date? considering inflation"
   ]
  },
  {
   "cell_type": "code",
   "execution_count": 74,
   "metadata": {},
   "outputs": [
    {
     "data": {
      "text/plain": [
       "[['achc.csv', 1373.8202913857679],\n",
       " ['bcli.csv', 1383.0339783171355],\n",
       " ['cui.csv', 1568.9827409707261],\n",
       " ['apdn.csv', 1593.4902907059036],\n",
       " ['anip.csv', 1751.1756719976045],\n",
       " ['amzn.csv', 2274.543652865783],\n",
       " ['blfs.csv', 2481.256788804999],\n",
       " ['arcw.csv', 3942.4207145476607],\n",
       " ['adxs.csv', 4048.820224719101],\n",
       " ['admp.csv', 7527.659147313941]]"
      ]
     },
     "execution_count": 74,
     "metadata": {},
     "output_type": "execute_result"
    }
   ],
   "source": [
    "most_profitable = []\n",
    "inflation_rate = 1.78\n",
    "for k, v in prices_columnwise.items():\n",
    "    percentage = (v['close'][-1]-\n",
    "                  (v['close'][0]/inflation_rate))/v['close'][0]\n",
    "    most_profitable.append([k, percentage*100])\n",
    "\n",
    "# ascending order\n",
    "most_profitable = sorted(most_profitable, key=lambda x:x[1])\n",
    "\n",
    "most_profitable[-10:]"
   ]
  },
  {
   "cell_type": "markdown",
   "metadata": {},
   "source": [
    "## 5. Stocks would have been best to short at the start of the period\n",
    "what stocks whould have been best to short at the start of the period? (*공매도를 하는게 좋았다는 말은 계속 떨어졌다는 말) "
   ]
  },
  {
   "cell_type": "code",
   "execution_count": null,
   "metadata": {
    "collapsed": true
   },
   "outputs": [],
   "source": []
  }
 ],
 "metadata": {
  "kernelspec": {
   "display_name": "Python 3",
   "language": "python",
   "name": "python3"
  },
  "language_info": {
   "codemirror_mode": {
    "name": "ipython",
    "version": 3
   },
   "file_extension": ".py",
   "mimetype": "text/x-python",
   "name": "python",
   "nbconvert_exporter": "python",
   "pygments_lexer": "ipython3",
   "version": "3.6.4"
  }
 },
 "nbformat": 4,
 "nbformat_minor": 2
}
