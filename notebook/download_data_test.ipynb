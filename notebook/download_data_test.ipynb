{
 "cells": [
  {
   "cell_type": "code",
   "execution_count": null,
   "metadata": {
    "collapsed": true
   },
   "outputs": [],
   "source": []
  },
  {
   "cell_type": "code",
   "execution_count": 2,
   "metadata": {},
   "outputs": [
    {
     "name": "stdout",
     "output_type": "stream",
     "text": [
      "--2018-03-30 19:02:39--  ftp://ftp.nasdaqtrader.com/symboldirectory/nasdaqlisted.txt\n",
      "           => ‘nasdaqlisted.txt’\n",
      "Resolving ftp.nasdaqtrader.com (ftp.nasdaqtrader.com)... 206.200.251.105\n",
      "Connecting to ftp.nasdaqtrader.com (ftp.nasdaqtrader.com)|206.200.251.105|:21... connected.\n",
      "Logging in as anonymous ... Logged in!\n",
      "==> SYST ... done.    ==> PWD ... done.\n",
      "==> TYPE I ... done.  ==> CWD (1) /symboldirectory ... done.\n",
      "==> SIZE nasdaqlisted.txt ... 206430\n",
      "==> PASV ... done.    ==> RETR nasdaqlisted.txt ... done.\n",
      "Length: 206430 (202K) (unauthoritative)\n",
      "\n",
      "nasdaqlisted.txt    100%[===================>] 201.59K   163KB/s    in 1.2s    \n",
      "\n",
      "2018-03-30 19:02:43 (163 KB/s) - ‘nasdaqlisted.txt’ saved [206430]\n",
      "\n"
     ]
    }
   ],
   "source": [
    "# ! wget ftp://ftp.nasdaqtrader.com/symboldirectory/nasdaqlisted.txt"
   ]
  },
  {
   "cell_type": "code",
   "execution_count": 2,
   "metadata": {
    "collapsed": true
   },
   "outputs": [],
   "source": [
    "import requests \n",
    "import concurrent.futures \n",
    "import csv\n",
    "import os \n",
    "import time"
   ]
  },
  {
   "cell_type": "code",
   "execution_count": 9,
   "metadata": {
    "collapsed": true
   },
   "outputs": [],
   "source": [
    "api_url = 'https://www.alphavantage.co/query?'\n",
    "api_key =os.environ['ALPHA_ADVANTAGE']\n",
    "params = {'function':'TIME_SERIES_DAILY_ADJUSTED',\n",
    "              'outputsize':'full',\n",
    "              'datatype':'csv',\n",
    "             'apikey': api_key}"
   ]
  },
  {
   "cell_type": "code",
   "execution_count": 10,
   "metadata": {
    "collapsed": true
   },
   "outputs": [],
   "source": [
    "def download_data_full(symbol):\n",
    "    '''\n",
    "    download the full-length time series of \n",
    "    up to 20 years of historical data for a symbol\n",
    "    '''\n",
    "    params['symbol'] = symbol \n",
    "\n",
    "    response = requests.get(api_url, params=params)\n",
    "    if response.status_code == 200:\n",
    "        data = response.content.decode('utf-8')\n",
    "    else:\n",
    "        print('[!] HTTP {0} calling [{1}]'.format(response.status_code, api_url))\n",
    "    \n",
    "    result = [data.split(',') for data in data.split('\\r\\n')]\n",
    "    with open(\"prices/{}_daily_adjusted.csv\".format(symbol.lower()), \"w+\") as f:\n",
    "        writer = csv.writer(f, delimiter=',')\n",
    "        writer.writerows(result)"
   ]
  },
  {
   "cell_type": "code",
   "execution_count": 11,
   "metadata": {
    "collapsed": true
   },
   "outputs": [],
   "source": [
    "# get a stock symbol \n",
    "with open(\"./Guided Project_ Analyzing Stock Prices/nasdaqlisted.txt\", 'r') as f:\n",
    "    stock_listed = f.read()\n",
    "    \n",
    "# download file \n",
    "for line in stock_listed.split(\"\\n\"):\n",
    "    symbol = line.split(\"|\")[0]\n",
    "    try:\n",
    "        download_file(symbol)\n",
    "        time.sleep(1)\n",
    "    except Exception as e:\n",
    "        print(e)\n",
    "        \n",
    "# symbols = [line.split('|')[0] for line \n",
    "#            in stock_listed.split(\"\\n\")[1:10]]"
   ]
  },
  {
   "cell_type": "code",
   "execution_count": null,
   "metadata": {
    "collapsed": true
   },
   "outputs": [],
   "source": [
    "concurrent.futures.ThreadPoolExecutor"
   ]
  },
  {
   "cell_type": "markdown",
   "metadata": {
    "collapsed": true
   },
   "source": [
    "## References \n",
    "\n",
    "https://budgeting.thenest.com/adjusted-closing-price-vs-closing-price-32457.html"
   ]
  }
 ],
 "metadata": {
  "kernelspec": {
   "display_name": "Python 3",
   "language": "python",
   "name": "python3"
  },
  "language_info": {
   "codemirror_mode": {
    "name": "ipython",
    "version": 3
   },
   "file_extension": ".py",
   "mimetype": "text/x-python",
   "name": "python",
   "nbconvert_exporter": "python",
   "pygments_lexer": "ipython3",
   "version": "3.6.4"
  }
 },
 "nbformat": 4,
 "nbformat_minor": 2
}
