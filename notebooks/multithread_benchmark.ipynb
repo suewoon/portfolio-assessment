{
 "cells": [
  {
   "cell_type": "markdown",
   "metadata": {},
   "source": [
    "### with multithreading "
   ]
  },
  {
   "cell_type": "code",
   "execution_count": 1,
   "metadata": {
    "collapsed": true
   },
   "outputs": [],
   "source": [
    "import requests \n",
    "import concurrent.futures \n",
    "import csv\n",
    "import os \n",
    "\n",
    "api_url = 'https://www.alphavantage.co/query?'\n",
    "api_key =os.environ['ALPHA_ADVANTAGE']\n",
    "params = {'function':'TIME_SERIES_DAILY_ADJUSTED',\n",
    "              'outputsize':'full',\n",
    "              'datatype':'csv',\n",
    "             'apikey': api_key}\n",
    "\n",
    "with open(\"./nasdaqlisted.txt\", 'r') as f:\n",
    "    stock_listed = f.read()\n",
    "symbols = [line.split('|')[0] for line in stock_listed.split(\"\\n\")[1:10]]"
   ]
  },
  {
   "cell_type": "code",
   "execution_count": 2,
   "metadata": {
    "collapsed": true
   },
   "outputs": [],
   "source": [
    "def download_data_full(symbol):\n",
    "\t'''\n",
    "\tdownload the full-length time series of \n",
    "\tup to 20 years of historical data for a symbol\n",
    "\t'''\n",
    "\tparams['symbol'] = symbol \n",
    "\n",
    "\tresponse = requests.get(api_url, params=params)\n",
    "\tif response.status_code == 200:\n",
    "\t    data = response.content.decode('utf-8')\n",
    "\telse:\n",
    "\t    print('[!] HTTP {0} calling [{1}]'.format(response.status_code, api_url))\n",
    "\n",
    "\tresult = [data.split(',') for data in data.split('\\r\\n')]\n",
    "\treturn symbol, result "
   ]
  },
  {
   "cell_type": "code",
   "execution_count": 6,
   "metadata": {},
   "outputs": [
    {
     "name": "stdout",
     "output_type": "stream",
     "text": [
      "The slowest run took 6.10 times longer than the fastest. This could mean that an intermediate result is being cached.\n",
      "13.8 s ± 4.57 s per loop (mean ± std. dev. of 7 runs, 1 loop each)\n"
     ]
    }
   ],
   "source": [
    "%%timeit\n",
    "with concurrent.futures.ThreadPoolExecutor(max_workers=4) as executor:\n",
    "    result = executor.map(download_data_full, symbols[:10])\n",
    "result = list(result)"
   ]
  },
  {
   "cell_type": "markdown",
   "metadata": {},
   "source": [
    "### without mutlithreading"
   ]
  },
  {
   "cell_type": "code",
   "execution_count": 12,
   "metadata": {},
   "outputs": [
    {
     "name": "stdout",
     "output_type": "stream",
     "text": [
      "52.5 s ± 1.21 s per loop (mean ± std. dev. of 7 runs, 1 loop each)\n"
     ]
    }
   ],
   "source": [
    "%%timeit\n",
    "for symbol in symbols:\n",
    "        try:\n",
    "            params['symbol'] = symbol \n",
    "            response = requests.get(api_url, params=params)\n",
    "            if response.status_code == 200:\n",
    "                data = response.content.decode('utf-8')\n",
    "            else:\n",
    "                print('[!] HTTP {0} calling [{1}]'.format(response.status_code, api_url))\n",
    "            result = [data.split(',') for data in data.split('\\r\\n')]\n",
    "        except Exception as e:\n",
    "            print(e)"
   ]
  }
 ],
 "metadata": {
  "kernelspec": {
   "display_name": "Python 3",
   "language": "python",
   "name": "python3"
  },
  "language_info": {
   "codemirror_mode": {
    "name": "ipython",
    "version": 3
   },
   "file_extension": ".py",
   "mimetype": "text/x-python",
   "name": "python",
   "nbconvert_exporter": "python",
   "pygments_lexer": "ipython3",
   "version": "3.6.4"
  }
 },
 "nbformat": 4,
 "nbformat_minor": 2
}
