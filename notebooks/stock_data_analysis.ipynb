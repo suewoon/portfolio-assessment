{
 "cells": [
  {
   "cell_type": "markdown",
   "metadata": {},
   "source": [
    "Stock Data Analsysis \n",
    "--------------------  \n",
    "[1. Read data from files and load on to the memory. Transform them into suitable format.](#1)  \n",
    "[2. Computing averages](#2)  \n",
    "    - avg (closing price of all stocks) over all time period\n",
    "    - avg (volume) for each stock over.. \n",
    "    - avg(close - open price) for each stock over .. \n",
    "    - avg(high - low price) for each stock over.. \n",
    "[3. The most traded stock each day](#3)\n",
    "    - create a data structure that stores dates & stock symbols that were most traded on that day to see what company is hot.\n",
    "[4. Which stock has the greatest descrepance between open price and closing price the day before?](#4)    "
   ]
  },
  {
   "cell_type": "markdown",
   "metadata": {},
   "source": [
    "<a id='1'></a>\n",
    "## 1. Read data from files and load on to the memory \n",
    "I've pre-downloaded stock time series data(adjusted price) files in `/prices`, which I'll read and load on to the memory. It has following data column for each stock for over 20years. \n",
    "- 'timestamp': Date (YYYY-MM-DD)\n",
    "- 'open': Opening price\n",
    "- 'high': Highest point price \n",
    "- 'low': Lowest point price\n",
    "- 'close': Closing price\n",
    "- 'adjusted_close': The closing price as a starting point, but it takes into account factors such as dividends, stock splits and new stock offerings. Represents a more accurate reflection of a stock's value.\n",
    "- 'volume': trading volume (shares)\n",
    "- 'dividend_amount': Dividend can come either in the form of cash paid per share or additional shares. If dividend amount is .42, it means it is paid $.42 per share for shareholders as a dividend.\n",
    "- 'split_coefficient': Stock split, if the company splits its stock 2-for-1, the split cofficient will be .5"
   ]
  },
  {
   "cell_type": "code",
   "execution_count": 1,
   "metadata": {
    "collapsed": true
   },
   "outputs": [],
   "source": [
    "import concurrent.futures\n",
    "import os "
   ]
  },
  {
   "cell_type": "code",
   "execution_count": 2,
   "metadata": {
    "collapsed": true,
    "scrolled": true
   },
   "outputs": [],
   "source": [
    "def readfile(filename):\n",
    "    symbol = filename.split('_')[0]\n",
    "    rows = []\n",
    "    try:\n",
    "        with open('../prices/TIME_SERIES_DAILY_ADJUSTED/'+filename) as f:\n",
    "            rows = f.read().strip()\n",
    "            rows = rows.split('\\n')\n",
    "            rows = [line.split(',') for line in rows]\n",
    "    except Exception as e:\n",
    "        print('read file error')\n",
    "    return symbol, rows "
   ]
  },
  {
   "cell_type": "code",
   "execution_count": 3,
   "metadata": {
    "collapsed": true
   },
   "outputs": [],
   "source": [
    "pool = concurrent.futures.ThreadPoolExecutor(max_workers=4)\n",
    "filenames = [f for f in os.listdir('../prices') if f.endswith(\".csv\")]\n",
    "\n",
    "prices = pool.map(readfile, filenames)"
   ]
  },
  {
   "cell_type": "code",
   "execution_count": 4,
   "metadata": {
    "collapsed": true
   },
   "outputs": [],
   "source": [
    "prices = dict(list(prices))"
   ]
  },
  {
   "cell_type": "code",
   "execution_count": 5,
   "metadata": {},
   "outputs": [
    {
     "data": {
      "text/plain": [
       "[['timestamp',\n",
       "  'open',\n",
       "  'high',\n",
       "  'low',\n",
       "  'close',\n",
       "  'adjusted_close',\n",
       "  'volume',\n",
       "  'dividend_amount',\n",
       "  'split_coefficient'],\n",
       " ['2018-04-06',\n",
       "  '30.3100',\n",
       "  '30.4900',\n",
       "  '30.3000',\n",
       "  '30.3100',\n",
       "  '30.3100',\n",
       "  '3485',\n",
       "  '0.0000',\n",
       "  '1.0000'],\n",
       " ['2018-04-05',\n",
       "  '30.4100',\n",
       "  '30.5100',\n",
       "  '30.3600',\n",
       "  '30.5100',\n",
       "  '30.5100',\n",
       "  '9589',\n",
       "  '0.0000',\n",
       "  '1.0000']]"
      ]
     },
     "execution_count": 5,
     "metadata": {},
     "output_type": "execute_result"
    }
   ],
   "source": [
    "# take a look how it looks like \n",
    "prices['dax'][:3]"
   ]
  },
  {
   "cell_type": "markdown",
   "metadata": {},
   "source": [
    "`prices` has 3 layers and it's row-based (dictionary - symbol as key, list - time series data, and list - data for a specific date). I'll turn this into column-based so that it will be easy to calculate statistics on a certain column. It could take a few seconds."
   ]
  },
  {
   "cell_type": "code",
   "execution_count": 6,
   "metadata": {
    "collapsed": true
   },
   "outputs": [],
   "source": [
    "from dateutil.parser import parse \n",
    "\n",
    "def transform_columnwise(symbol):\n",
    "    try:\n",
    "        column_data = {}\n",
    "        rows = prices[symbol]\n",
    "        headers = rows[0]# header \n",
    "        for idx, col_name in enumerate(headers):# parse data\n",
    "            values = [p[idx] for p in rows[1:]]\n",
    "            if idx == 0:# timestamp type \n",
    "                values = [parse(v) for v in values]\n",
    "            else:# float type \n",
    "                values = [float(v) for v in values]\n",
    "            column_data[col_name] = values\n",
    "    except Exception as e:\n",
    "        print(e)\n",
    "        pass\n",
    "    return symbol, column_data"
   ]
  },
  {
   "cell_type": "code",
   "execution_count": 7,
   "metadata": {
    "collapsed": true
   },
   "outputs": [],
   "source": [
    "pool = concurrent.futures.ProcessPoolExecutor(max_workers=4)\n",
    "symbols = list(prices.keys())\n",
    "\n",
    "prices_columnwise = pool.map(transform_columnwise, symbols)"
   ]
  },
  {
   "cell_type": "code",
   "execution_count": 8,
   "metadata": {},
   "outputs": [
    {
     "name": "stdout",
     "output_type": "stream",
     "text": [
      "It took 104.07041192054749secs\n"
     ]
    }
   ],
   "source": [
    "import time\n",
    "start = time.time()\n",
    "prices_columnwise = dict(list(prices_columnwise))\n",
    "print(\"It took {}secs\".format(time.time()-start))"
   ]
  },
  {
   "cell_type": "markdown",
   "metadata": {},
   "source": [
    "<a id='2'></a>\n",
    "## 2. Computing averages\n",
    "For each stock, \n",
    "- avg (closing price) over all time period\n",
    "- avg (volume) for each stock over all time period\n",
    "- avg(close - open price) for each stock over all time period\n",
    "- avg(high - low price) for each stock over all time period"
   ]
  },
  {
   "cell_type": "code",
   "execution_count": 9,
   "metadata": {
    "collapsed": true
   },
   "outputs": [],
   "source": [
    "from statistics import mean \n",
    "\n",
    "# average closing price \n",
    "avg_closing = {}\n",
    "# average volume\n",
    "avg_volume = {}\n",
    "# average (close-open) \n",
    "avg_diff_clos_open = {}\n",
    "# average (high -low)\n",
    "avg_dff_high_low = {}\n",
    "\n",
    "for k, v in prices_columnwise.items():\n",
    "    avg_closing[k] = mean(v['close'])\n",
    "    avg_volume[k] = mean(v['volume'])\n",
    "    avg_diff_clos_open[k] = mean([i-j for i, j in zip(v['close'], v['open'])])\n",
    "    avg_dff_high_low[k] = mean([i-j for i, j in zip(v['high'],v['low'])])"
   ]
  },
  {
   "cell_type": "code",
   "execution_count": 10,
   "metadata": {},
   "outputs": [
    {
     "data": {
      "image/png": "[encoded data removed]",
      "text/plain": [
       "<matplotlib.figure.Figure at 0x1570c7320>"
      ]
     },
     "metadata": {},
     "output_type": "display_data"
    },
    {
     "data": {
      "image/png": "[encoded data removed]",
      "text/plain": [
       "<matplotlib.figure.Figure at 0x104cce048>"
      ]
     },
     "metadata": {},
     "output_type": "display_data"
    },
    {
     "data": {
      "image/png": "[encoded data removed]",
      "text/plain": [
       "<matplotlib.figure.Figure at 0x179ce5438>"
      ]
     },
     "metadata": {},
     "output_type": "display_data"
    },
    {
     "data": {
      "image/png": "[encoded data removed]",
      "text/plain": [
       "<matplotlib.figure.Figure at 0x17988dc88>"
      ]
     },
     "metadata": {},
     "output_type": "display_data"
    }
   ],
   "source": [
    "import matplotlib.pyplot as plt \n",
    "import seaborn as sns \n",
    "\n",
    "plt.bar(range(len(avg_closing.keys())), list(avg_closing.values()))\n",
    "plt.title('average closing price')\n",
    "plt.show()\n",
    "\n",
    "plt.bar(range(len(avg_volume.keys())), list(avg_volume.values()))\n",
    "plt.title('average volume')\n",
    "plt.show()\n",
    "\n",
    "plt.bar(range(len(avg_diff_clos_open.keys())), list(avg_diff_clos_open.values()))\n",
    "plt.title('average (close-open)')\n",
    "plt.show()\n",
    "\n",
    "plt.bar(range(len(avg_dff_high_low.keys())), list(avg_dff_high_low.values()))\n",
    "plt.title('average (high-low)')\n",
    "plt.show()"
   ]
  },
  {
   "cell_type": "markdown",
   "metadata": {},
   "source": [
    "We can clearly see that there are some stocks have remarkably high value. Let's sort these out."
   ]
  },
  {
   "cell_type": "code",
   "execution_count": 11,
   "metadata": {
    "collapsed": true
   },
   "outputs": [],
   "source": [
    "import operator\n",
    "\n",
    "# sort\n",
    "avg_closing = sorted(avg_closing.items(), key=operator.itemgetter(1))\n",
    "avg_volume = sorted(avg_volume.items(), key=operator.itemgetter(1))\n",
    "avg_diff_clos_open = sorted(avg_diff_clos_open.items(), key=operator.itemgetter(1))\n",
    "avg_dff_high_low = sorted(avg_dff_high_low.items(), key=operator.itemgetter(1))"
   ]
  },
  {
   "cell_type": "code",
   "execution_count": 12,
   "metadata": {},
   "outputs": [
    {
     "name": "stdout",
     "output_type": "stream",
     "text": [
      "highest average closing price\n",
      "[('atri', 176.2088979973879), ('amzn', 228.05109270787983), ('isrg', 277.64649620450996)]\n",
      "\n",
      "highest average volume\n",
      "[('aapl', 22702604.50413583), ('intc', 50736044.033086635), ('adxs', 52993282.611580595)]\n",
      "\n",
      "highest average difference during a day\n",
      "[('bgne', 0.189010401459854), ('atri', 0.24201832825424446), ('glibp', 0.29526315789473756)]\n",
      "\n",
      "highest average fluctiation\n",
      "[('amzn', 5.260663735306923), ('isrg', 6.695976400982363), ('icpt', 8.085273966642495)]\n"
     ]
    }
   ],
   "source": [
    "print('highest average closing price')\n",
    "print(avg_closing[-3:])\n",
    "print()\n",
    "print('highest average volume')\n",
    "print(avg_volume[-3:])\n",
    "print()\n",
    "print('highest average difference during a day')\n",
    "print(avg_diff_clos_open[-3:])\n",
    "print()\n",
    "print('highest average fluctiation')\n",
    "print(avg_dff_high_low[-3:])"
   ]
  },
  {
   "cell_type": "markdown",
   "metadata": {},
   "source": [
    "<a id='3'></a>\n",
    "## 3. The 3 most traded stock for each day\n",
    "I'll create a data structure that stores dates & stock symbols that were most traded on that day to see what company is hot."
   ]
  },
  {
   "cell_type": "code",
   "execution_count": 13,
   "metadata": {
    "collapsed": true
   },
   "outputs": [],
   "source": [
    "def get_most_traded():\n",
    "    trades = {}\n",
    "    for symbol, values in prices_columnwise.items():\n",
    "        for i, date in enumerate(values['timestamp']):\n",
    "            if date not in trades:\n",
    "                trades[date] = []\n",
    "            trades[date].append([symbol, values['volume'][i]])\n",
    "    most_traded = []\n",
    "    for k, v in trades.items():\n",
    "        ordered = sorted(v, key=lambda x:x[1])\n",
    "        most_traded.append([k, ordered[-1][0], ordered[-2][0], ordered[-3][0]])\n",
    "    return most_traded"
   ]
  },
  {
   "cell_type": "code",
   "execution_count": 14,
   "metadata": {
    "collapsed": true
   },
   "outputs": [],
   "source": [
    "most_traded = get_most_traded()"
   ]
  },
  {
   "cell_type": "code",
   "execution_count": 15,
   "metadata": {},
   "outputs": [
    {
     "data": {
      "text/plain": [
       "[[datetime.datetime(2018, 4, 6, 0, 0), 'aapl', 'intc', 'incy'],\n",
       " [datetime.datetime(2018, 4, 5, 0, 0), 'czr', 'aapl', 'intc'],\n",
       " [datetime.datetime(2018, 4, 4, 0, 0), 'aapl', 'intc', 'czr'],\n",
       " [datetime.datetime(2018, 4, 3, 0, 0), 'intc', 'aapl', 'aker'],\n",
       " [datetime.datetime(2018, 4, 2, 0, 0), 'intc', 'aapl', 'amat'],\n",
       " [datetime.datetime(2018, 3, 29, 0, 0), 'intc', 'aapl', 'acxm'],\n",
       " [datetime.datetime(2018, 3, 28, 0, 0), 'aapl', 'intc', 'gern'],\n",
       " [datetime.datetime(2018, 3, 27, 0, 0), 'aapl', 'intc', 'amat'],\n",
       " [datetime.datetime(2018, 3, 26, 0, 0), 'intc', 'aapl', 'aker'],\n",
       " [datetime.datetime(2018, 3, 23, 0, 0), 'dbx', 'aapl', 'intc']]"
      ]
     },
     "execution_count": 15,
     "metadata": {},
     "output_type": "execute_result"
    }
   ],
   "source": [
    "# 10 most traded stocks on each day \n",
    "most_traded[:10]"
   ]
  },
  {
   "cell_type": "markdown",
   "metadata": {},
   "source": [
    "If the trading volume of a stock is picked really high on a specific date, chances are that is in the middle of falling price period, except Apple and Intel, which are one of the most traded stocks in NASDAQ. On the other hand, we might found a decreasing period with trading volume pick."
   ]
  },
  {
   "cell_type": "code",
   "execution_count": 16,
   "metadata": {},
   "outputs": [
    {
     "data": {
      "image/png": "[encoded data removed]",
      "text/plain": [
       "<matplotlib.figure.Figure at 0x17ad8bb00>"
      ]
     },
     "metadata": {},
     "output_type": "display_data"
    }
   ],
   "source": [
    "# for example, amat\n",
    "fig, ax1 = plt.subplots()\n",
    "ax1.plot(prices_columnwise['amat']['timestamp'][:14], prices_columnwise['amat']['adjusted_close'][:14],'g-')\n",
    "ax2 = ax1.twinx()\n",
    "ax2.plot(prices_columnwise['amat']['timestamp'][:14], prices_columnwise['amat']['volume'][:14],'b-')\n",
    "ax1.set_ylabel('closing price', color='g')\n",
    "ax2.set_ylabel('volume', color='b')\n",
    "fig.autofmt_xdate(bottom=0.2, rotation=90, ha='left')\n",
    "plt.show()"
   ]
  },
  {
   "cell_type": "markdown",
   "metadata": {},
   "source": [
    "<a id='4'></a>\n",
    "## 4. Biggest change during after hour\n",
    "On each day, which one has the most price increase or drecrease during after hour tradings?"
   ]
  },
  {
   "cell_type": "code",
   "execution_count": 17,
   "metadata": {
    "collapsed": true
   },
   "outputs": [],
   "source": [
    "def get_biggest_change_afterhour():\n",
    "    afterhour_change = {}\n",
    "    biggest_change_afterhour = []\n",
    "    for symbol, values in prices_columnwise.items():\n",
    "        length = len(values['timestamp'])\n",
    "        for i, date in enumerate(values['timestamp']):\n",
    "            if date not in afterhour_change:\n",
    "                afterhour_change[date]=[]\n",
    "            if i < length-1:\n",
    "                afterhour_change[date].append([symbol, values['open'][i]\n",
    "                                           -values['adjusted_close'][i+1]])\n",
    "    for k, v in afterhour_change.items():\n",
    "        ordered = sorted(v, key=lambda x:x[1], reverse=True)\n",
    "        if ordered:\n",
    "            biggest_change_afterhour.append([k, ordered[0], ordered[-1]])\n",
    "    return biggest_change_afterhour"
   ]
  },
  {
   "cell_type": "code",
   "execution_count": 18,
   "metadata": {
    "collapsed": true
   },
   "outputs": [],
   "source": [
    "biggest_change_afterhour = get_biggest_change_afterhour()"
   ]
  },
  {
   "cell_type": "code",
   "execution_count": 19,
   "metadata": {},
   "outputs": [
    {
     "data": {
      "text/plain": [
       "[[datetime.datetime(2018, 4, 6, 0, 0),\n",
       "  ['emcf', 1.25],\n",
       "  ['amzn', -21.779999999999973]],\n",
       " [datetime.datetime(2018, 4, 5, 0, 0),\n",
       "  ['amzn', 31.420000000000073],\n",
       "  ['conn', -5.200000000000003]],\n",
       " [datetime.datetime(2018, 4, 4, 0, 0),\n",
       "  ['gfncp', 1.4468999999999994],\n",
       "  ['amzn', -33.809999999999945]],\n",
       " [datetime.datetime(2018, 4, 3, 0, 0),\n",
       "  ['amzn', 19.3900000000001],\n",
       "  ['isca', -2.6000000000000014]],\n",
       " [datetime.datetime(2018, 4, 2, 0, 0),\n",
       "  ['cvlt', 5.699999999999996],\n",
       "  ['amzn', -29.720000000000027]],\n",
       " [datetime.datetime(2018, 3, 29, 0, 0),\n",
       "  ['ggal', 3.6000000000000085],\n",
       "  ['amzn', -25.420000000000073]],\n",
       " [datetime.datetime(2018, 3, 28, 0, 0),\n",
       "  ['atri', 4.850000000000023],\n",
       "  ['amzn', -50.049999999999955]],\n",
       " [datetime.datetime(2018, 3, 27, 0, 0),\n",
       "  ['amzn', 16.54000000000019],\n",
       "  ['isrl', -4.099999999999994]],\n",
       " [datetime.datetime(2018, 3, 26, 0, 0),\n",
       "  ['amzn', 34.440000000000055],\n",
       "  ['cizn', -0.8499999999999979]],\n",
       " [datetime.datetime(2018, 3, 23, 0, 0),\n",
       "  ['ctas', 3.619999999999976],\n",
       "  ['amzn', -5.910000000000082]]]"
      ]
     },
     "execution_count": 19,
     "metadata": {},
     "output_type": "execute_result"
    }
   ],
   "source": [
    "# biggest changes in the both directions\n",
    "biggest_change_afterhour[:10]"
   ]
  },
  {
   "cell_type": "markdown",
   "metadata": {},
   "source": [
    "This shows the biggest increase/decrease during a after hours trading. In recent 10 days, Amazon is either huge increase or decrease. It's interesting to see this pattern because its stock value has been dropping like a rock after President Trump continued to his tweet tirade against Amazon. "
   ]
  },
  {
   "cell_type": "code",
   "execution_count": 20,
   "metadata": {
    "collapsed": true
   },
   "outputs": [],
   "source": [
    "amzn_open = prices_columnwise['amzn']['open'][:30]\n",
    "amzn_close = prices_columnwise['amzn']['adjusted_close'][1:31]\n",
    "timestamp = prices_columnwise['amzn']['timestamp'][:30]"
   ]
  },
  {
   "cell_type": "code",
   "execution_count": 21,
   "metadata": {
    "scrolled": true
   },
   "outputs": [
    {
     "data": {
      "image/png": "[encoded data removed]",
      "text/plain": [
       "<matplotlib.figure.Figure at 0x17ad5f048>"
      ]
     },
     "metadata": {},
     "output_type": "display_data"
    }
   ],
   "source": [
    "import matplotlib.pyplot as plt \n",
    "plt.plot(timestamp, amzn_close, label=\"closing price the day before\")\n",
    "plt.plot(timestamp, amzn_open, label=\"opening price\")\n",
    "plt.legend()\n",
    "plt.xticks(rotation=90)\n",
    "plt.show()"
   ]
  },
  {
   "cell_type": "markdown",
   "metadata": {},
   "source": [
    "At the end of the March, you can the descrepancy between prices. It seems like more after hours selling occurred after massive drop down, which resulted in the big gap between opening price and closeing price the day before."
   ]
  }
 ],
 "metadata": {
  "kernelspec": {
   "display_name": "Python 3",
   "language": "python",
   "name": "python3"
  },
  "language_info": {
   "codemirror_mode": {
    "name": "ipython",
    "version": 3
   },
   "file_extension": ".py",
   "mimetype": "text/x-python",
   "name": "python",
   "nbconvert_exporter": "python",
   "pygments_lexer": "ipython3",
   "version": "3.6.4"
  }
 },
 "nbformat": 4,
 "nbformat_minor": 2
}
