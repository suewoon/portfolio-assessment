{
 "cells": [
  {
   "cell_type": "code",
   "execution_count": 1,
   "metadata": {
    "collapsed": true
   },
   "outputs": [],
   "source": [
    "import grequests \n",
    "import requests\n",
    "import os \n",
    "import inspect \n",
    "from functools import wraps"
   ]
  },
  {
   "cell_type": "code",
   "execution_count": 62,
   "metadata": {
    "collapsed": true
   },
   "outputs": [],
   "source": [
    "class AlphaVantageDecorator:\n",
    "    _ENDPOINT = 'https://www.alphavantage.co/query?'\n",
    "    \n",
    "    def __init__(self, symbols, num_sessions=10):\n",
    "        self.auth = os.environ.get('ALPHA_ADVANTAGE', None)\n",
    "        if not self.auth:\n",
    "            raise ValueError(\"cannot find alphavantage api key\")\n",
    "        if not isinstance(symbols, list) or len(symbols) == 0:\n",
    "            raise TypeError(\"symbols must be a list consists of more than one symbol\")\n",
    "        self.symbols = [symbol.lower() for symbol in symbols]\n",
    "        self.num_sessions = num_sessions\n",
    "        self.sessions = [requests.Session() for i in range(self.num_sessions)]\n",
    "\n",
    "    @classmethod\n",
    "    def _return_response(cls, func):\n",
    "        \"Decorator for issuing multiple http requests\"\n",
    "        argspec = inspect.getfullargspec(func)\n",
    "        \n",
    "        @wraps(func)\n",
    "        def wrapper(self, *args, **kwargs):\n",
    "            func_name = func(self, *args, **kwargs)\n",
    "            params = {'apikey':self.auth, 'function':func_name}\n",
    "            base_url = AlphaVantageClient._ENDPOINT\n",
    "            print(argspec.args)\n",
    "            print(kwargs)\n",
    "            for arg_name in argspec.args[1:]:\n",
    "                if arg_name in kwargs and kwargs[arg_name]:\n",
    "                    params[arg_name] = kwargs[arg_name]\n",
    "            print(params)\n",
    "            reqs = []\n",
    "            i = 0\n",
    "            for symbol in self.symbols:\n",
    "                params['symbol'] = symbol\n",
    "                try:\n",
    "                    reqs.append(grequests.get(base_url, \n",
    "                                              session=self.sessions[i % self.num_sessions], \n",
    "                                              params=params))\n",
    "                    i+=1\n",
    "                    responses = grequests.imap(reqs, size=self.num_sessions)\n",
    "                except Exception as e:\n",
    "                    pass\n",
    "            if not responses: \n",
    "                raise ValueError(\"empty responses\")\n",
    "            return (r.json() for r in responses if r.status_code==200)\n",
    "        return wrapper "
   ]
  },
  {
   "cell_type": "code",
   "execution_count": 63,
   "metadata": {},
   "outputs": [],
   "source": [
    "class AlphaVantageClient(AlphaVantageDecorator):\n",
    "    @AlphaVantageDecorator._return_response\n",
    "    def get_daily(self, outputsize=None):\n",
    "        return \"TIME_SERIES_DAILY\""
   ]
  },
  {
   "cell_type": "code",
   "execution_count": 64,
   "metadata": {},
   "outputs": [],
   "source": [
    "client = AlphaVantageClient(symbols=['aapl', 'AMZN', 'spot', 'nvda',\n",
    "                                     'intu', 'hrs', 'ibm', 'msft'])"
   ]
  },
  {
   "cell_type": "code",
   "execution_count": 65,
   "metadata": {},
   "outputs": [
    {
     "name": "stdout",
     "output_type": "stream",
     "text": [
      "['self', 'outputsize']\n",
      "{}\n",
      "{'apikey': 'VW8HKFZTQT03O5BB', 'function': 'TIME_SERIES_DAILY'}\n"
     ]
    }
   ],
   "source": [
    "responses_json = client.get_daily()"
   ]
  },
  {
   "cell_type": "code",
   "execution_count": 66,
   "metadata": {},
   "outputs": [
    {
     "name": "stdout",
     "output_type": "stream",
     "text": [
      "{'Meta Data': {'1. Information': 'Daily Prices (open, high, low, close) and Volumes', '2. Symbol': 'msft', '3. Last Refreshed': '2018-04-19', '4. Output Size': 'Compact', '5. Time Zone': 'US/Eastern'}, 'Time Series (Daily)': {'2018-04-19': {'1. open': '96.4400', '2. high': '97.0700', '3. low': '95.3400', '4. close': '96.1100', '5. volume': '23540522'}, '2018-04-18': {'1. open': '96.2200', '2. high': '96.7200', '3. low': '95.5200', '4. close': '96.4400', '5. volume': '21043287'}, '2018-04-17': {'1. open': '95.0000', '2. high': '96.5400', '3. low': '94.8800', '4. close': '96.0700', '5. volume': '26771000'}, '2018-04-16': {'1. open': '94.0700', '2. high': '94.6600', '3. low': '93.4200', '4. close': '94.1700', '5. volume': '20288083'}, '2018-04-13': {'1. open': '94.0500', '2. high': '94.1800', '3. low': '92.4400', '4. close': '93.0800', '5. volume': '23346063'}, '2018-04-12': {'1. open': '92.4300', '2. high': '94.1600', '3. low': '92.4300', '4. close': '93.5800', '5. volume': '26758879'}, '2018-04-11': {'1. open': '92.0100', '2. high': '93.2900', '3. low': '91.4800', '4. close': '91.8600', '5. volume': '24872110'}, '2018-04-10': {'1. open': '92.3900', '2. high': '93.2800', '3. low': '91.6400', '4. close': '92.8800', '5. volume': '26939883'}, '2018-04-09': {'1. open': '91.0400', '2. high': '93.1700', '3. low': '90.6200', '4. close': '90.7700', '5. volume': '31533943'}, '2018-04-06': {'1. open': '91.4900', '2. high': '92.4600', '3. low': '89.4800', '4. close': '90.2300', '5. volume': '38026000'}, '2018-04-05': {'1. open': '92.4350', '2. high': '93.0650', '3. low': '91.4000', '4. close': '92.3800', '5. volume': '29771881'}, '2018-04-04': {'1. open': '87.8500', '2. high': '92.7600', '3. low': '87.7300', '4. close': '92.3300', '5. volume': '35559956'}, '2018-04-03': {'1. open': '89.5750', '2. high': '90.0500', '3. low': '87.8900', '4. close': '89.7100', '5. volume': '37213837'}, '2018-04-02': {'1. open': '90.4700', '2. high': '90.8800', '3. low': '87.5100', '4. close': '88.5200', '5. volume': '48515417'}, '2018-03-29': {'1. open': '90.1800', '2. high': '92.2900', '3. low': '88.4000', '4. close': '91.2700', '5. volume': '45867548'}, '2018-03-28': {'1. open': '89.8200', '2. high': '91.2300', '3. low': '88.8730', '4. close': '89.3900', '5. volume': '52501146'}, '2018-03-27': {'1. open': '94.9400', '2. high': '95.1390', '3. low': '88.5100', '4. close': '89.4700', '5. volume': '53704562'}, '2018-03-26': {'1. open': '90.6100', '2. high': '94.0000', '3. low': '90.4000', '4. close': '93.7800', '5. volume': '55031149'}, '2018-03-23': {'1. open': '89.5000', '2. high': '90.4600', '3. low': '87.0800', '4. close': '87.1800', '5. volume': '42159397'}, '2018-03-22': {'1. open': '91.2650', '2. high': '91.7500', '3. low': '89.6600', '4. close': '89.7900', '5. volume': '37578166'}, '2018-03-21': {'1. open': '92.9300', '2. high': '94.0500', '3. low': '92.2100', '4. close': '92.4800', '5. volume': '23753263'}, '2018-03-20': {'1. open': '93.0500', '2. high': '93.7700', '3. low': '93.0000', '4. close': '93.1300', '5. volume': '21787780'}, '2018-03-19': {'1. open': '93.7400', '2. high': '93.9000', '3. low': '92.1100', '4. close': '92.8900', '5. volume': '31752589'}, '2018-03-16': {'1. open': '94.6800', '2. high': '95.3800', '3. low': '93.9200', '4. close': '94.6000', '5. volume': '47329521'}, '2018-03-15': {'1. open': '93.5300', '2. high': '94.5800', '3. low': '92.8300', '4. close': '94.1800', '5. volume': '26279014'}, '2018-03-14': {'1. open': '95.1200', '2. high': '95.4100', '3. low': '93.5000', '4. close': '93.8500', '5. volume': '31576898'}, '2018-03-13': {'1. open': '97.0000', '2. high': '97.2400', '3. low': '93.9700', '4. close': '94.4100', '5. volume': '34445391'}, '2018-03-12': {'1. open': '96.5000', '2. high': '97.2100', '3. low': '96.0400', '4. close': '96.7700', '5. volume': '25333720'}, '2018-03-09': {'1. open': '95.2900', '2. high': '96.5400', '3. low': '95.0000', '4. close': '96.5400', '5. volume': '36145524'}, '2018-03-08': {'1. open': '94.2700', '2. high': '95.1000', '3. low': '93.7650', '4. close': '94.4300', '5. volume': '24861307'}, '2018-03-07': {'1. open': '93.1600', '2. high': '93.9406', '3. low': '92.4300', '4. close': '93.8600', '5. volume': '26716127'}, '2018-03-06': {'1. open': '94.3400', '2. high': '94.4900', '3. low': '92.9410', '4. close': '93.3200', '5. volume': '22175776'}, '2018-03-05': {'1. open': '92.3400', '2. high': '94.2700', '3. low': '92.2600', '4. close': '93.6400', '5. volume': '23901578'}, '2018-03-02': {'1. open': '91.5800', '2. high': '93.1500', '3. low': '90.8600', '4. close': '93.0500', '5. volume': '32830389'}, '2018-03-01': {'1. open': '93.9900', '2. high': '94.5700', '3. low': '91.8400', '4. close': '92.8500', '5. volume': '37135561'}, '2018-02-28': {'1. open': '94.8400', '2. high': '95.7050', '3. low': '93.6300', '4. close': '93.7700', '5. volume': '29314525'}, '2018-02-27': {'1. open': '95.7400', '2. high': '95.8400', '3. low': '94.2000', '4. close': '94.2000', '5. volume': '25540755'}, '2018-02-26': {'1. open': '94.4000', '2. high': '95.4500', '3. low': '94.2500', '4. close': '95.4200', '5. volume': '29760276'}, '2018-02-23': {'1. open': '92.7500', '2. high': '94.0700', '3. low': '92.3600', '4. close': '94.0600', '5. volume': '25779955'}, '2018-02-22': {'1. open': '92.0500', '2. high': '92.7300', '3. low': '91.3600', '4. close': '91.7300', '5. volume': '22723756'}, '2018-02-21': {'1. open': '92.9800', '2. high': '93.3595', '3. low': '91.4900', '4. close': '91.4900', '5. volume': '26081953'}, '2018-02-20': {'1. open': '91.4750', '2. high': '93.0600', '3. low': '91.0100', '4. close': '92.7200', '5. volume': '30107057'}, '2018-02-16': {'1. open': '92.4500', '2. high': '93.5000', '3. low': '91.8000', '4. close': '92.0000', '5. volume': '30188535'}, '2018-02-15': {'1. open': '91.2100', '2. high': '92.7200', '3. low': '90.6200', '4. close': '92.6600', '5. volume': '27407914'}, '2018-02-14': {'1. open': '88.5100', '2. high': '90.9900', '3. low': '88.4100', '4. close': '90.8100', '5. volume': '34314101'}, '2018-02-13': {'1. open': '88.9300', '2. high': '90.0000', '3. low': '87.8000', '4. close': '89.8300', '5. volume': '26200053'}, '2018-02-12': {'1. open': '88.7350', '2. high': '89.7800', '3. low': '87.9295', '4. close': '89.1300', '5. volume': '35501368'}, '2018-02-09': {'1. open': '86.3000', '2. high': '88.9300', '3. low': '83.8300', '4. close': '88.1800', '5. volume': '57408480'}, '2018-02-08': {'1. open': '89.7100', '2. high': '89.8750', '3. low': '84.7600', '4. close': '85.0100', '5. volume': '47485202'}, '2018-02-07': {'1. open': '90.4900', '2. high': '91.7700', '3. low': '89.2000', '4. close': '89.6100', '5. volume': '40340551'}, '2018-02-06': {'1. open': '86.8900', '2. high': '91.4750', '3. low': '85.2500', '4. close': '91.3300', '5. volume': '66157030'}, '2018-02-05': {'1. open': '90.5600', '2. high': '93.2400', '3. low': '88.0000', '4. close': '88.0000', '5. volume': '42253469'}, '2018-02-02': {'1. open': '93.6400', '2. high': '93.9700', '3. low': '91.5000', '4. close': '91.7800', '5. volume': '47076959'}, '2018-02-01': {'1. open': '94.7900', '2. high': '96.0700', '3. low': '93.5813', '4. close': '94.2600', '5. volume': '46645657'}, '2018-01-31': {'1. open': '93.7500', '2. high': '95.4000', '3. low': '93.5100', '4. close': '95.0100', '5. volume': '44284284'}, '2018-01-30': {'1. open': '93.3000', '2. high': '93.6600', '3. low': '92.1000', '4. close': '92.7400', '5. volume': '34153798'}, '2018-01-29': {'1. open': '95.1400', '2. high': '95.4500', '3. low': '93.7200', '4. close': '93.9200', '5. volume': '30409620'}, '2018-01-26': {'1. open': '93.1200', '2. high': '94.0600', '3. low': '92.5800', '4. close': '94.0600', '5. volume': '26348999'}, '2018-01-25': {'1. open': '92.4650', '2. high': '93.2400', '3. low': '91.9300', '4. close': '92.3300', '5. volume': '23983094'}, '2018-01-24': {'1. open': '92.5500', '2. high': '93.4300', '3. low': '91.5800', '4. close': '91.8200', '5. volume': '32107765'}, '2018-01-23': {'1. open': '91.9000', '2. high': '92.3000', '3. low': '91.5400', '4. close': '91.9000', '5. volume': '22283365'}, '2018-01-22': {'1. open': '90.0000', '2. high': '91.6200', '3. low': '89.7400', '4. close': '91.6100', '5. volume': '23190700'}, '2018-01-19': {'1. open': '90.1400', '2. high': '90.6100', '3. low': '89.6600', '4. close': '90.0000', '5. volume': '34896964'}, '2018-01-18': {'1. open': '89.8000', '2. high': '90.6700', '3. low': '89.6600', '4. close': '90.1000', '5. volume': '22931303'}, '2018-01-17': {'1. open': '89.0800', '2. high': '90.2800', '3. low': '88.7500', '4. close': '90.1400', '5. volume': '24659472'}, '2018-01-16': {'1. open': '90.1000', '2. high': '90.7900', '3. low': '88.0104', '4. close': '88.3500', '5. volume': '35945428'}, '2018-01-12': {'1. open': '88.6700', '2. high': '89.7800', '3. low': '88.4500', '4. close': '89.6000', '5. volume': '24000439'}, '2018-01-11': {'1. open': '88.1300', '2. high': '88.1300', '3. low': '87.2400', '4. close': '88.0800', '5. volume': '16529868'}, '2018-01-10': {'1. open': '87.8600', '2. high': '88.1900', '3. low': '87.4100', '4. close': '87.8200', '5. volume': '18129153'}, '2018-01-09': {'1. open': '88.6500', '2. high': '88.7272', '3. low': '87.8600', '4. close': '88.2200', '5. volume': '19390427'}, '2018-01-08': {'1. open': '88.2000', '2. high': '88.5800', '3. low': '87.6046', '4. close': '88.2800', '5. volume': '20293930'}, '2018-01-05': {'1. open': '87.6600', '2. high': '88.4100', '3. low': '87.4300', '4. close': '88.1900', '5. volume': '22526563'}, '2018-01-04': {'1. open': '86.5900', '2. high': '87.6600', '3. low': '86.5700', '4. close': '87.1100', '5. volume': '21145985'}, '2018-01-03': {'1. open': '86.0550', '2. high': '86.5100', '3. low': '85.9700', '4. close': '86.3500', '5. volume': '24173064'}, '2018-01-02': {'1. open': '86.1250', '2. high': '86.3100', '3. low': '85.5000', '4. close': '85.9500', '5. volume': '21993101'}, '2017-12-29': {'1. open': '85.6300', '2. high': '86.0500', '3. low': '85.5000', '4. close': '85.5400', '5. volume': '18162779'}, '2017-12-28': {'1. open': '85.9000', '2. high': '85.9300', '3. low': '85.5500', '4. close': '85.7200', '5. volume': '9872795'}, '2017-12-27': {'1. open': '85.6500', '2. high': '85.9800', '3. low': '85.2150', '4. close': '85.7100', '5. volume': '13000828'}, '2017-12-26': {'1. open': '85.3100', '2. high': '85.5346', '3. low': '85.0300', '4. close': '85.4000', '5. volume': '9737412'}, '2017-12-22': {'1. open': '85.4000', '2. high': '85.6300', '3. low': '84.9200', '4. close': '85.5100', '5. volume': '14033977'}, '2017-12-21': {'1. open': '86.0500', '2. high': '86.1000', '3. low': '85.4000', '4. close': '85.5000', '5. volume': '16638402'}, '2017-12-20': {'1. open': '86.2000', '2. high': '86.3000', '3. low': '84.7100', '4. close': '85.5200', '5. volume': '23425009'}, '2017-12-19': {'1. open': '86.3500', '2. high': '86.3500', '3. low': '85.2700', '4. close': '85.8300', '5. volume': '23241979'}, '2017-12-18': {'1. open': '87.1200', '2. high': '87.4999', '3. low': '86.2300', '4. close': '86.3800', '5. volume': '21551076'}, '2017-12-15': {'1. open': '85.2600', '2. high': '87.0900', '3. low': '84.8800', '4. close': '86.8500', '5. volume': '52430167'}, '2017-12-14': {'1. open': '85.4300', '2. high': '85.8739', '3. low': '84.5300', '4. close': '84.6900', '5. volume': '19080106'}, '2017-12-13': {'1. open': '85.7400', '2. high': '86.0000', '3. low': '85.1700', '4. close': '85.3500', '5. volume': '21307911'}, '2017-12-12': {'1. open': '85.3100', '2. high': '86.0500', '3. low': '85.0800', '4. close': '85.5800', '5. volume': '23534946'}, '2017-12-11': {'1. open': '84.2900', '2. high': '85.3700', '3. low': '84.1200', '4. close': '85.2300', '5. volume': '19909119'}, '2017-12-08': {'1. open': '83.6300', '2. high': '84.5800', '3. low': '83.3300', '4. close': '84.1600', '5. volume': '23825056'}, '2017-12-07': {'1. open': '82.5400', '2. high': '82.8000', '3. low': '82.0000', '4. close': '82.4900', '5. volume': '20378114'}, '2017-12-06': {'1. open': '81.5500', '2. high': '83.1400', '3. low': '81.4300', '4. close': '82.7800', '5. volume': '24821403'}, '2017-12-05': {'1. open': '81.3400', '2. high': '82.6800', '3. low': '80.9801', '4. close': '81.5900', '5. volume': '25512120'}, '2017-12-04': {'1. open': '84.4200', '2. high': '84.4299', '3. low': '80.7000', '4. close': '81.0800', '5. volume': '37977732'}, '2017-12-01': {'1. open': '83.6000', '2. high': '84.8100', '3. low': '83.2200', '4. close': '84.2600', '5. volume': '29387325'}, '2017-11-30': {'1. open': '83.5100', '2. high': '84.5200', '3. low': '83.3400', '4. close': '84.1700', '5. volume': '32998408'}, '2017-11-29': {'1. open': '84.7100', '2. high': '84.9172', '3. low': '83.1750', '4. close': '83.3400', '5. volume': '27358477'}, '2017-11-28': {'1. open': '84.0700', '2. high': '85.0600', '3. low': '84.0200', '4. close': '84.8800', '5. volume': '21162639'}, '2017-11-27': {'1. open': '83.3100', '2. high': '83.9800', '3. low': '83.3000', '4. close': '83.8700', '5. volume': '17603760'}, '2017-11-24': {'1. open': '83.0100', '2. high': '83.4300', '3. low': '82.7800', '4. close': '83.2600', '5. volume': '7425503'}}}\n"
     ]
    }
   ],
   "source": [
    "for x in responses_json:\n",
    "    print(x)\n",
    "    break"
   ]
  },
  {
   "cell_type": "code",
   "execution_count": null,
   "metadata": {
    "collapsed": true
   },
   "outputs": [],
   "source": []
  }
 ],
 "metadata": {
  "kernelspec": {
   "display_name": "Python 3",
   "language": "python",
   "name": "python3"
  },
  "language_info": {
   "codemirror_mode": {
    "name": "ipython",
    "version": 3
   },
   "file_extension": ".py",
   "mimetype": "text/x-python",
   "name": "python",
   "nbconvert_exporter": "python",
   "pygments_lexer": "ipython3",
   "version": "3.6.4"
  }
 },
 "nbformat": 4,
 "nbformat_minor": 2
}
