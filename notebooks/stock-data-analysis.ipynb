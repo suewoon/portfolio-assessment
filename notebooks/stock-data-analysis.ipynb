{
 "cells": [
  {
   "cell_type": "markdown",
   "metadata": {},
   "source": [
    "Stock Data Analsysis \n",
    "-------------------- \n",
    "0. using alpha vantage api for getting info \n",
    "    - download data in csv format in 'prices' directory\n",
    "    \n",
    "1. read data from downloaded csv & save it to memory \n",
    "    - using hash table (python dictionary) on first layer because they can be easily combined across clusters. make symbol as a key.\n",
    "    \n",
    "2. computing averages \n",
    "    - avg (closing price of all stocks) over all time period\n",
    "    - avg (volume) for each stock over.. \n",
    "    - avg(close - open price) for each stock over .. \n",
    "    - avg(high - low price) for each stock over.. \n",
    "3. the most traded stock each day , create a data structure that stores dates & stock symbols that were most traded on that day. see what company is hot. 맨날 똑같은 회사가 탑인데 의미가 있나..? \n",
    "    \n",
    "4. which stocks would have been the most profitable to buy on the specific date? considering inflation\n",
    "5. what stocks whould have been best to short at the start of the period? (*공매도를 하는게 좋았다는 말은 계속 떨어졌다는 말) \n",
    "\n",
    "6. does technical indicators really help predicting trades market? (bollinger bands - brands) \n",
    "\n",
    "7. based on price, what was the optimal day to buy each stock, if we wanted to hold them util now?  "
   ]
  },
  {
   "cell_type": "markdown",
   "metadata": {},
   "source": [
    "## 1. read data from csv and load on to the memory "
   ]
  },
  {
   "cell_type": "code",
   "execution_count": 1,
   "metadata": {
    "collapsed": true
   },
   "outputs": [],
   "source": [
    "import concurrent.futures\n",
    "import os \n",
    "import cProfile\n",
    "import time\n",
    "import numpy as np"
   ]
  },
  {
   "cell_type": "markdown",
   "metadata": {},
   "source": [
    "multi thread를 사용하여 파일을 읽는다. 이번 프로젝트는 여러 cluster에서 작업 하는 것을 전제로 두기 때문에 `pandas.DataFrame`이 아니라 python에 기본으로 구현되어 있는 data structure을 사용한다. "
   ]
  },
  {
   "cell_type": "code",
   "execution_count": 2,
   "metadata": {
    "scrolled": true
   },
   "outputs": [
    {
     "name": "stdout",
     "output_type": "stream",
     "text": [
      "         13705 function calls in 0.047 seconds\n",
      "\n",
      "   Ordered by: standard name\n",
      "\n",
      "   ncalls  tottime  percall  cumtime  percall filename:lineno(function)\n",
      "        1    0.000    0.000    0.047    0.047 <string>:1(<module>)\n",
      "      798    0.001    0.000    0.004    0.000 _base.py:312(__init__)\n",
      "        1    0.000    0.000    0.047    0.047 _base.py:550(map)\n",
      "        1    0.001    0.001    0.047    0.047 _base.py:575(<listcomp>)\n",
      "        4    0.000    0.000    0.000    0.000 _weakrefset.py:81(add)\n",
      "      798    0.002    0.000    0.019    0.000 queue.py:115(put)\n",
      "      798    0.000    0.000    0.000    0.000 queue.py:206(_put)\n",
      "      798    0.002    0.000    0.046    0.000 thread.py:114(submit)\n",
      "      798    0.001    0.000    0.020    0.000 thread.py:127(_adjust_thread_count)\n",
      "      798    0.000    0.000    0.000    0.000 thread.py:45(__init__)\n",
      "        4    0.000    0.000    0.000    0.000 threading.py:1120(daemon)\n",
      "        4    0.000    0.000    0.000    0.000 threading.py:1136(daemon)\n",
      "        4    0.000    0.000    0.000    0.000 threading.py:1230(current_thread)\n",
      "      802    0.002    0.000    0.003    0.000 threading.py:215(__init__)\n",
      "      802    0.000    0.000    0.014    0.000 threading.py:239(__enter__)\n",
      "      802    0.000    0.000    0.000    0.000 threading.py:242(__exit__)\n",
      "        4    0.000    0.000    0.000    0.000 threading.py:248(_release_save)\n",
      "        4    0.000    0.000    0.000    0.000 threading.py:251(_acquire_restore)\n",
      "      802    0.000    0.000    0.001    0.000 threading.py:254(_is_owned)\n",
      "        4    0.000    0.000    0.019    0.005 threading.py:263(wait)\n",
      "      798    0.002    0.000    0.003    0.000 threading.py:334(notify)\n",
      "        4    0.000    0.000    0.000    0.000 threading.py:498(__init__)\n",
      "        8    0.000    0.000    0.000    0.000 threading.py:506(is_set)\n",
      "        4    0.000    0.000    0.019    0.005 threading.py:533(wait)\n",
      "      798    0.001    0.000    0.001    0.000 threading.py:74(RLock)\n",
      "        4    0.000    0.000    0.000    0.000 threading.py:757(__init__)\n",
      "        4    0.000    0.000    0.019    0.005 threading.py:828(start)\n",
      "        4    0.000    0.000    0.000    0.000 weakref.py:406(__setitem__)\n",
      "        8    0.000    0.000    0.000    0.000 {built-in method _thread.allocate_lock}\n",
      "        4    0.000    0.000    0.000    0.000 {built-in method _thread.get_ident}\n",
      "        4    0.000    0.000    0.000    0.000 {built-in method _thread.start_new_thread}\n",
      "        1    0.000    0.000    0.047    0.047 {built-in method builtins.exec}\n",
      "      798    0.000    0.000    0.000    0.000 {built-in method builtins.len}\n",
      "      802    0.013    0.000    0.013    0.000 {method '__enter__' of '_thread.lock' objects}\n",
      "      802    0.000    0.000    0.000    0.000 {method '__exit__' of '_thread.lock' objects}\n",
      "      814    0.019    0.000    0.019    0.000 {method 'acquire' of '_thread.lock' objects}\n",
      "        8    0.000    0.000    0.000    0.000 {method 'add' of 'set' objects}\n",
      "      802    0.000    0.000    0.000    0.000 {method 'append' of 'collections.deque' objects}\n",
      "        1    0.000    0.000    0.000    0.000 {method 'disable' of '_lsprof.Profiler' objects}\n",
      "        7    0.000    0.000    0.000    0.000 {method 'release' of '_thread.lock' objects}\n",
      "        3    0.000    0.000    0.000    0.000 {method 'remove' of 'collections.deque' objects}\n",
      "\n",
      "\n"
     ]
    }
   ],
   "source": [
    "def readfile(filename):\n",
    "    symbol = filename.split('_')[0]\n",
    "    rows = []\n",
    "    try:\n",
    "        with open('../prices/'+filename) as f:\n",
    "            rows = f.read().strip()\n",
    "            rows = rows.split('\\n')\n",
    "            rows = [line.split(',') for line in rows]\n",
    "    except Exception as e:\n",
    "        print('read file error')\n",
    "    return symbol, rows \n",
    "\n",
    "p = concurrent.futures.ThreadPoolExecutor(max_workers=4)\n",
    "filenames = [f for f in os.listdir('../prices') if f.endswith(\".csv\")]\n",
    "\n",
    "profile_string = \"prices = p.map(readfile, filenames)\"\n",
    "cProfile.run(profile_string)"
   ]
  },
  {
   "cell_type": "code",
   "execution_count": 3,
   "metadata": {
    "collapsed": true
   },
   "outputs": [],
   "source": [
    "prices = dict(list(prices))"
   ]
  },
  {
   "cell_type": "markdown",
   "metadata": {},
   "source": [
    "## 2. computing averages\n",
    "- avg (closing price of all stocks) over all time period\n",
    "- avg (volume) for each stock over all time period\n",
    "- avg(close - open price) for each stock over all time period\n",
    "- avg(high - low price) for each stock over all time period\n",
    "\n",
    "change `prices` data structure columnwise so that compuatation average on each column is fast"
   ]
  },
  {
   "cell_type": "code",
   "execution_count": 4,
   "metadata": {
    "collapsed": true
   },
   "outputs": [],
   "source": [
    "# transform\n",
    "from dateutil.parser import parse\n",
    "prices_columnwise = {}\n",
    "for k,v in prices.items():\n",
    "    price = v\n",
    "    headers = price[0]\n",
    "    price_columns = {}\n",
    "    for i, header in enumerate(headers):\n",
    "        values = [p[i] for p in price[1:]]\n",
    "        if i > 0:\n",
    "            values = [float(v) for v in values]\n",
    "        else:\n",
    "            values = [parse(v) for v in values]\n",
    "        price_columns[header] = values\n",
    "    prices_columnwise[k] = price_columns"
   ]
  },
  {
   "cell_type": "code",
   "execution_count": 5,
   "metadata": {
    "collapsed": true
   },
   "outputs": [],
   "source": [
    "from statistics import mean \n",
    "\n",
    "# average closing price \n",
    "avg_closing = {}\n",
    "# average volume\n",
    "avg_volume = {}\n",
    "# average (close-open) \n",
    "avg_diff_clos_open = {}\n",
    "# average (high -low)\n",
    "avg_dff_high_low = {}\n",
    "\n",
    "for k, v in prices_columnwise.items():\n",
    "    avg_closing[k] = mean(v['close'])\n",
    "    avg_volume[k] = mean(v['volume'])\n",
    "    avg_diff_clos_open[k] = mean([i-j for i, j in zip(v['close'], v['open'])])\n",
    "    avg_dff_high_low[k] = mean([i-j for i, j in zip(v['high'],v['low'])])"
   ]
  },
  {
   "cell_type": "code",
   "execution_count": 6,
   "metadata": {},
   "outputs": [
    {
     "data": {
      "image/png": "[encoded data removed]",
      "text/plain": [
       "<matplotlib.figure.Figure at 0x17c9717b8>"
      ]
     },
     "metadata": {},
     "output_type": "display_data"
    },
    {
     "data": {
      "image/png": "[encoded data removed]",
      "text/plain": [
       "<matplotlib.figure.Figure at 0x10bb89358>"
      ]
     },
     "metadata": {},
     "output_type": "display_data"
    },
    {
     "data": {
      "image/png": "[encoded data removed]",
      "text/plain": [
       "<matplotlib.figure.Figure at 0x17ddee208>"
      ]
     },
     "metadata": {},
     "output_type": "display_data"
    },
    {
     "data": {
      "image/png": "[encoded data removed]",
      "text/plain": [
       "<matplotlib.figure.Figure at 0x17ef556d8>"
      ]
     },
     "metadata": {},
     "output_type": "display_data"
    }
   ],
   "source": [
    "import matplotlib.pyplot as plt \n",
    "plt.bar(range(len(avg_closing.keys())), list(avg_closing.values()))\n",
    "plt.title('average closing price')\n",
    "plt.show()\n",
    "\n",
    "plt.bar(range(len(avg_volume.keys())), list(avg_volume.values()))\n",
    "plt.title('average volume')\n",
    "plt.show()\n",
    "\n",
    "plt.bar(range(len(avg_diff_clos_open.keys())), list(avg_diff_clos_open.values()))\n",
    "plt.title('average (close-open)')\n",
    "plt.show()\n",
    "\n",
    "plt.bar(range(len(avg_dff_high_low.keys())), list(avg_dff_high_low.values()))\n",
    "plt.title('average (high-low)')\n",
    "plt.show()"
   ]
  },
  {
   "cell_type": "markdown",
   "metadata": {},
   "source": [
    "## 3. the most traded stock each day\n",
    "create a data structure that stores dates & stock symbols that were most traded on that day. see what company is hot."
   ]
  },
  {
   "cell_type": "code",
   "execution_count": 9,
   "metadata": {
    "collapsed": true
   },
   "outputs": [],
   "source": [
    "trades = {}\n",
    "for k, v in prices_columnwise.items():\n",
    "    for i, date in enumerate(v['timestamp']):\n",
    "        if date not in trades:\n",
    "            trades[date] = []\n",
    "        trades[date].append([k, v['volume'][i]])\n",
    "         \n",
    "most_traded = []\n",
    "for k, v in trades.items():\n",
    "    ordered = sorted(v, key=lambda x: x[1])\n",
    "    most_traded.append([k, ordered[-1][0]])"
   ]
  },
  {
   "cell_type": "code",
   "execution_count": 17,
   "metadata": {},
   "outputs": [
    {
     "data": {
      "text/plain": [
       "[[datetime.datetime(2018, 4, 6, 0, 0), 'aapl'],\n",
       " [datetime.datetime(2018, 4, 5, 0, 0), 'czr'],\n",
       " [datetime.datetime(2018, 4, 4, 0, 0), 'aapl'],\n",
       " [datetime.datetime(2018, 4, 3, 0, 0), 'intc'],\n",
       " [datetime.datetime(2018, 4, 2, 0, 0), 'intc']]"
      ]
     },
     "execution_count": 17,
     "metadata": {},
     "output_type": "execute_result"
    }
   ],
   "source": [
    "most_traded[:5]"
   ]
  },
  {
   "cell_type": "markdown",
   "metadata": {},
   "source": [
    "## High Volume Days"
   ]
  },
  {
   "cell_type": "code",
   "execution_count": 28,
   "metadata": {
    "collapsed": true
   },
   "outputs": [],
   "source": [
    "daily_volumes = {}\n",
    "\n",
    "most_traded = []\n",
    "for timestamp, volumes in trades.items():\n",
    "    volume = sum([item[1] for item in volumes])\n",
    "    daily_volumes[timestamp] = volume "
   ]
  },
  {
   "cell_type": "code",
   "execution_count": 29,
   "metadata": {
    "collapsed": true
   },
   "outputs": [],
   "source": [
    "volume_tuples = [[k, v] for k, v in daily_volumes.items()]\n",
    "volume_tuples = sorted(volume_tuples, key=lambda x:x[1], reverse=True)"
   ]
  },
  {
   "cell_type": "code",
   "execution_count": 30,
   "metadata": {},
   "outputs": [
    {
     "data": {
      "text/plain": [
       "[[datetime.datetime(2012, 5, 15, 0, 0), 2626232726.0],\n",
       " [datetime.datetime(2013, 1, 11, 0, 0), 2373939004.0],\n",
       " [datetime.datetime(2013, 2, 8, 0, 0), 2345675364.0],\n",
       " [datetime.datetime(2009, 9, 22, 0, 0), 1860850139.0],\n",
       " [datetime.datetime(2013, 1, 9, 0, 0), 1841998828.0],\n",
       " [datetime.datetime(2013, 2, 7, 0, 0), 1836299981.0],\n",
       " [datetime.datetime(2013, 1, 14, 0, 0), 1688377321.0],\n",
       " [datetime.datetime(2009, 6, 3, 0, 0), 1592050146.0],\n",
       " [datetime.datetime(2009, 9, 21, 0, 0), 1580733435.0],\n",
       " [datetime.datetime(2009, 5, 29, 0, 0), 1546578236.0]]"
      ]
     },
     "execution_count": 30,
     "metadata": {},
     "output_type": "execute_result"
    }
   ],
   "source": [
    "volume_tuples[:10]"
   ]
  },
  {
   "cell_type": "code",
   "execution_count": 64,
   "metadata": {
    "collapsed": true
   },
   "outputs": [],
   "source": [
    "import math \n",
    "\n",
    "high_volume_days = [v[0] for v in volume_tuples[:10]]\n",
    "\n",
    "def binary_search(array, search):\n",
    "    m = 0\n",
    "    i = 0\n",
    "    z = len(array)-1\n",
    "    while i <= z:\n",
    "        m = math.floor(i + ((z-i)/2))\n",
    "        if array[m]-search==0:\n",
    "            return m \n",
    "        elif array[m] < search:\n",
    "            i = m + 1\n",
    "        elif array[m] > search:\n",
    "            z = m - 1\n",
    "    return None "
   ]
  },
  {
   "cell_type": "code",
   "execution_count": 83,
   "metadata": {},
   "outputs": [
    {
     "data": {
      "text/plain": [
       "[datetime.datetime(2012, 5, 15, 0, 0),\n",
       " datetime.datetime(2013, 1, 11, 0, 0),\n",
       " datetime.datetime(2013, 2, 8, 0, 0),\n",
       " datetime.datetime(2009, 9, 22, 0, 0),\n",
       " datetime.datetime(2013, 1, 9, 0, 0),\n",
       " datetime.datetime(2013, 2, 7, 0, 0),\n",
       " datetime.datetime(2013, 1, 14, 0, 0),\n",
       " datetime.datetime(2009, 6, 3, 0, 0),\n",
       " datetime.datetime(2009, 9, 21, 0, 0),\n",
       " datetime.datetime(2009, 5, 29, 0, 0)]"
      ]
     },
     "execution_count": 83,
     "metadata": {},
     "output_type": "execute_result"
    }
   ],
   "source": [
    "high_volume_days"
   ]
  },
  {
   "cell_type": "code",
   "execution_count": 79,
   "metadata": {
    "collapsed": true
   },
   "outputs": [],
   "source": [
    "high_volume_txs = {}\n",
    "for sym, data in prices_columnwise.items():\n",
    "    for day in high_volume_days:\n",
    "        try:\n",
    "            idx = data['timestamp'].index(day)\n",
    "            if sym not in high_volume_txs:\n",
    "                high_volume_txs[sym] = []\n",
    "            high_volume_txs[sym].append(prices[sym][idx])\n",
    "        except ValueError as e:\n",
    "            pass"
   ]
  },
  {
   "cell_type": "markdown",
   "metadata": {},
   "source": [
    "## 4. The most profitable to buy on 2012-01-01? \n",
    "which stocks would have been the most profitable to buy on the specific date? considering inflation"
   ]
  },
  {
   "cell_type": "code",
   "execution_count": 23,
   "metadata": {
    "collapsed": true
   },
   "outputs": [],
   "source": [
    "most_profitable = []\n",
    "inflation_rate = 1.78\n",
    "for k, v in prices_columnwise.items():\n",
    "    percentage = (v['close'][-1]-\n",
    "                  (v['close'][0]*inflation_rate))/v['close'][0]\n",
    "    most_profitable.append([k, percentage*100])\n",
    "\n",
    "# ascending order\n",
    "most_profitable = sorted(most_profitable, key=lambda x:x[1], reverse=True)"
   ]
  },
  {
   "cell_type": "code",
   "execution_count": 25,
   "metadata": {},
   "outputs": [
    {
     "data": {
      "text/plain": [
       "[['evep', 11532.05917159763],\n",
       " ['idxg', 9706.782608695652],\n",
       " ['jasnw', 8221.999999999998],\n",
       " ['bvsn', 8049.391304347826],\n",
       " ['evlv', 5984.365591397849],\n",
       " ['cytx', 3996.067495559503],\n",
       " ['jagx', 3547.2747252747254],\n",
       " ['acerw', 3422.0],\n",
       " ['gevo', 3397.467594606351],\n",
       " ['gigm', 3022.0000000000005]]"
      ]
     },
     "execution_count": 25,
     "metadata": {},
     "output_type": "execute_result"
    }
   ],
   "source": [
    "most_profitable[:10]"
   ]
  },
  {
   "cell_type": "markdown",
   "metadata": {},
   "source": [
    "## 5. Stocks would have been best to short at the start of the period\n",
    "what stocks whould have been best to short at the start of the period? (*공매도를 하는게 좋았다는 말은 계속 떨어졌다는 말) "
   ]
  },
  {
   "cell_type": "code",
   "execution_count": 2,
   "metadata": {},
   "outputs": [],
   "source": [
    "import os\n",
    "path = os.path.join('prices','function')"
   ]
  },
  {
   "cell_type": "code",
   "execution_count": 3,
   "metadata": {},
   "outputs": [
    {
     "data": {
      "text/plain": [
       "'prices/function/'"
      ]
     },
     "execution_count": 3,
     "metadata": {},
     "output_type": "execute_result"
    }
   ],
   "source": [
    "path+\"/\""
   ]
  },
  {
   "cell_type": "code",
   "execution_count": null,
   "metadata": {
    "collapsed": true
   },
   "outputs": [],
   "source": []
  }
 ],
 "metadata": {
  "kernelspec": {
   "display_name": "Python 3",
   "language": "python",
   "name": "python3"
  },
  "language_info": {
   "codemirror_mode": {
    "name": "ipython",
    "version": 3
   },
   "file_extension": ".py",
   "mimetype": "text/x-python",
   "name": "python",
   "nbconvert_exporter": "python",
   "pygments_lexer": "ipython3",
   "version": "3.6.4"
  }
 },
 "nbformat": 4,
 "nbformat_minor": 2
}
